{
 "cells": [
  {
   "cell_type": "markdown",
   "id": "e2dfd029",
   "metadata": {},
   "source": [
    "1. Look at the data given below. Plot the data, find the outliers and find out μ,σ,σ^2\n",
    "Name of company Measure X\n",
    "\n",
    "Allied Signal 24.23%\n",
    "\n",
    "Bankers Trust 25.53%\n",
    "\n",
    "General Mills 25.41%\n",
    "\n",
    "Industries 24.14%\n",
    "\n",
    "J.P.Morgan & Co. 29.62%\n",
    "\n",
    "Lehman Brothers 28.25%\n",
    "\n",
    "Marriott 25.81%\n",
    "\n",
    "MCI 24.39%\n",
    "\n",
    "Merrill Lynch 40.26%\n",
    "\n",
    "Microsoft 32.95%\n",
    "\n",
    "Morgan Stanley 91.36%\n",
    "\n",
    "Sun Microsystems 25.99%\n",
    "\n",
    "Travelers 39.42%\n",
    "\n",
    "US Airways 26.71%\n",
    "\n",
    "Warner-Lambert 35.00%"
   ]
  },
  {
   "cell_type": "code",
   "execution_count": 1,
   "id": "79648328",
   "metadata": {},
   "outputs": [],
   "source": [
    "from scipy import stats\n",
    "import numpy as np\n",
    "import statistics as st\n",
    "import pandas as pd\n",
    "import matplotlib.pyplot as plt\n",
    "import math"
   ]
  },
  {
   "cell_type": "code",
   "execution_count": 2,
   "id": "4302b474",
   "metadata": {},
   "outputs": [
    {
     "data": {
      "text/html": [
       "<div>\n",
       "<style scoped>\n",
       "    .dataframe tbody tr th:only-of-type {\n",
       "        vertical-align: middle;\n",
       "    }\n",
       "\n",
       "    .dataframe tbody tr th {\n",
       "        vertical-align: top;\n",
       "    }\n",
       "\n",
       "    .dataframe thead th {\n",
       "        text-align: right;\n",
       "    }\n",
       "</style>\n",
       "<table border=\"1\" class=\"dataframe\">\n",
       "  <thead>\n",
       "    <tr style=\"text-align: right;\">\n",
       "      <th></th>\n",
       "      <th>Company</th>\n",
       "      <th>Measurex</th>\n",
       "    </tr>\n",
       "  </thead>\n",
       "  <tbody>\n",
       "    <tr>\n",
       "      <th>0</th>\n",
       "      <td>Allied Signal</td>\n",
       "      <td>24.23</td>\n",
       "    </tr>\n",
       "    <tr>\n",
       "      <th>1</th>\n",
       "      <td>Bankers Trust</td>\n",
       "      <td>25.53</td>\n",
       "    </tr>\n",
       "    <tr>\n",
       "      <th>2</th>\n",
       "      <td>General Mills</td>\n",
       "      <td>25.41</td>\n",
       "    </tr>\n",
       "    <tr>\n",
       "      <th>3</th>\n",
       "      <td>ITT Industries</td>\n",
       "      <td>24.14</td>\n",
       "    </tr>\n",
       "    <tr>\n",
       "      <th>4</th>\n",
       "      <td>J.P.Morgan &amp; Co</td>\n",
       "      <td>29.62</td>\n",
       "    </tr>\n",
       "    <tr>\n",
       "      <th>5</th>\n",
       "      <td>Lehman Brothers</td>\n",
       "      <td>28.25</td>\n",
       "    </tr>\n",
       "    <tr>\n",
       "      <th>6</th>\n",
       "      <td>Marriott</td>\n",
       "      <td>25.81</td>\n",
       "    </tr>\n",
       "    <tr>\n",
       "      <th>7</th>\n",
       "      <td>MCI</td>\n",
       "      <td>24.39</td>\n",
       "    </tr>\n",
       "    <tr>\n",
       "      <th>8</th>\n",
       "      <td>Merrill Lynch</td>\n",
       "      <td>40.26</td>\n",
       "    </tr>\n",
       "    <tr>\n",
       "      <th>9</th>\n",
       "      <td>Microsoft</td>\n",
       "      <td>32.95</td>\n",
       "    </tr>\n",
       "    <tr>\n",
       "      <th>10</th>\n",
       "      <td>Morgan Stanley</td>\n",
       "      <td>91.36</td>\n",
       "    </tr>\n",
       "    <tr>\n",
       "      <th>11</th>\n",
       "      <td>Sun Microsystems</td>\n",
       "      <td>25.99</td>\n",
       "    </tr>\n",
       "    <tr>\n",
       "      <th>12</th>\n",
       "      <td>Travelers</td>\n",
       "      <td>39.42</td>\n",
       "    </tr>\n",
       "    <tr>\n",
       "      <th>13</th>\n",
       "      <td>US Airways</td>\n",
       "      <td>26.71</td>\n",
       "    </tr>\n",
       "    <tr>\n",
       "      <th>14</th>\n",
       "      <td>Warner-Lambert</td>\n",
       "      <td>35.00</td>\n",
       "    </tr>\n",
       "  </tbody>\n",
       "</table>\n",
       "</div>"
      ],
      "text/plain": [
       "             Company  Measurex\n",
       "0      Allied Signal     24.23\n",
       "1      Bankers Trust     25.53\n",
       "2      General Mills     25.41\n",
       "3     ITT Industries     24.14\n",
       "4    J.P.Morgan & Co     29.62\n",
       "5    Lehman Brothers     28.25\n",
       "6           Marriott     25.81\n",
       "7                MCI     24.39\n",
       "8      Merrill Lynch     40.26\n",
       "9          Microsoft     32.95\n",
       "10    Morgan Stanley     91.36\n",
       "11  Sun Microsystems     25.99\n",
       "12         Travelers     39.42\n",
       "13        US Airways     26.71\n",
       "14    Warner-Lambert     35.00"
      ]
     },
     "execution_count": 2,
     "metadata": {},
     "output_type": "execute_result"
    }
   ],
   "source": [
    "Df_1=pd.DataFrame({'Company':['Allied Signal',\n",
    "'Bankers Trust',\n",
    "'General Mills',\n",
    "'ITT Industries',\n",
    "'J.P.Morgan & Co',\n",
    "'Lehman Brothers',\n",
    "'Marriott',\n",
    "'MCI',\n",
    "'Merrill Lynch',\n",
    "'Microsoft',\n",
    "'Morgan Stanley',\n",
    "'Sun Microsystems',\n",
    "'Travelers',\n",
    "'US Airways',\n",
    "'Warner-Lambert'],'Measurex':[24.23,25.53,25.41,24.14,29.62,28.25,25.81,24.39,40.26,32.95,91.36,25.99,39.42,26.71,35.00]})\n",
    "Df_1\n",
    "#measure_X=pd.Series([24.23,25.53,25.41,24.14,29.62,28.25,25.81,24.39,40.26,32.95,91.36,25.99,39.42,26.71,35.00])\n",
    "#measure_X"
   ]
  },
  {
   "cell_type": "code",
   "execution_count": 3,
   "id": "c9884679",
   "metadata": {},
   "outputs": [
    {
     "name": "stdout",
     "output_type": "stream",
     "text": [
      "The Mean is: 33.27133333333333 The Variance is: 287.1466123809524 The standard Deviation is: 16.945400921222028\n"
     ]
    }
   ],
   "source": [
    "\n",
    "Mean1=Df_1['Measurex'].mean()\n",
    "Variance1=Df_1['Measurex'].var()\n",
    "STD1=Df_1['Measurex'].std()\n",
    "print(\"The Mean is:\",Mean1,\"The Variance is:\",Variance1,\"The standard Deviation is:\",STD1)\n",
    "     "
   ]
  },
  {
   "cell_type": "code",
   "execution_count": 4,
   "id": "58eebcc5",
   "metadata": {},
   "outputs": [
    {
     "data": {
      "text/plain": [
       "{'whiskers': [<matplotlib.lines.Line2D at 0x1a9d1f92ca0>,\n",
       "  <matplotlib.lines.Line2D at 0x1a9d1f92f70>],\n",
       " 'caps': [<matplotlib.lines.Line2D at 0x1a9d2651340>,\n",
       "  <matplotlib.lines.Line2D at 0x1a9d26516d0>],\n",
       " 'boxes': [<matplotlib.lines.Line2D at 0x1a9d1f928e0>],\n",
       " 'medians': [<matplotlib.lines.Line2D at 0x1a9d2651a60>],\n",
       " 'fliers': [<matplotlib.lines.Line2D at 0x1a9d265e1c0>],\n",
       " 'means': [<matplotlib.lines.Line2D at 0x1a9d2651df0>]}"
      ]
     },
     "execution_count": 4,
     "metadata": {},
     "output_type": "execute_result"
    },
    {
     "data": {
      "image/png": "[encoded data removed]",
      "text/plain": [
       "<Figure size 360x360 with 1 Axes>"
      ]
     },
     "metadata": {
      "needs_background": "light"
     },
     "output_type": "display_data"
    }
   ],
   "source": [
    "#Plot the graph \n",
    "plt.figure(figsize=(5,5))\n",
    "plt.boxplot(Df_1['Measurex'],meanline=True,showmeans=True,data=True)\n",
    "#xlabel:(\"Company\",Size=10)\n",
    "#ylabel:(\"Measure of X\",Size=10)"
   ]
  },
  {
   "cell_type": "code",
   "execution_count": 20,
   "id": "1c2751ea",
   "metadata": {},
   "outputs": [
    {
     "name": "stdout",
     "output_type": "stream",
     "text": [
      "8.505000000000003\n"
     ]
    }
   ],
   "source": [
    "#To find the outliers\n",
    "Q_1=np.quantile(Df_1[\"Measurex\"],0.25)\n",
    "Q_3=np.quantile(Df_1[\"Measurex\"],0.75)\n",
    "Interquartile=Q_3-Q_1\n",
    "print(Interquartile)"
   ]
  },
  {
   "cell_type": "code",
   "execution_count": 21,
   "id": "da864ac5",
   "metadata": {},
   "outputs": [],
   "source": [
    "lowerlimit=Q_1-1.5*Interquartile\n",
    "Higherlimit=Q_3+1.5*Interquartile"
   ]
  },
  {
   "cell_type": "code",
   "execution_count": 25,
   "id": "fc61f4a7",
   "metadata": {},
   "outputs": [
    {
     "name": "stdout",
     "output_type": "stream",
     "text": [
      "Lower outlier is []\n",
      "Higher outlier is 35.0\n"
     ]
    }
   ],
   "source": [
    "Lower_outlier=[]\n",
    "Higher_outlier=[]\n",
    "for i in Df_1['Measurex']:\n",
    "  if Higherlimit:\n",
    "     Higher_outlier=i\n",
    "print(\"Lower outlier is\",Lower_outlier)\n",
    "print(\"Higher outlier is\",Higher_outlier)"
   ]
  },
  {
   "attachments": {
    "image.png": {
     "image/png": "[encoded data removed]"
    }
   },
   "cell_type": "markdown",
   "id": "a6e91b34",
   "metadata": {},
   "source": [
    "2.)![image.png](attachment:image.png)"
   ]
  },
  {
   "cell_type": "markdown",
   "id": "807c3f33",
   "metadata": {},
   "source": [
    "Answer the following three questions based on the box-plot above.\n",
    "\n",
    "(i) What is inter-quartile range of this dataset? (please approximate the numbers) In one line, explain what this value implies.\n",
    "\n",
    "(ii) What can we say about the skewness of this dataset?\n",
    "\n",
    "(iii) If it was found that the data point with the value 25 is actually 2.5, how would the new box-plot be affected?\n",
    "\n",
    "Ans:\n",
    "\n",
    "(i) IQR=Q3-Q1=12-5=7 Interquartile range is the difference of 3rd and 1st quartiles in a dataset. (Dispersion of Data\n",
    "\n",
    "(ii) Skewness of this Data is Right skewed because the Data concentrated more in left side so RHS will be Skewed.\n",
    "\n",
    "(iii)The median will reduce and Interquartile range will be more into LHS of graph Than RHS due to the less value 2.5 added with dataset. Median shifted to left side"
   ]
  },
  {
   "attachments": {
    "image.png": {
     "image/png": "[encoded data removed]"
    }
   },
   "cell_type": "markdown",
   "id": "4af147e1",
   "metadata": {},
   "source": [
    "3.)![image.png](attachment:image.png)"
   ]
  },
  {
   "cell_type": "markdown",
   "id": "a4a0854e",
   "metadata": {},
   "source": [
    "Answer the following three questions based on the histogram above.\n",
    "\n",
    "(i) Where would the mode of this dataset lie?\n",
    "\n",
    "(ii) Comment on the skewness of the dataset.\n",
    "\n",
    "(iii) Suppose that the above histogram and the box-plot in question 2 are plotted for the same dataset. Explain how these graphs complement each other in providing information about any dataset.\n",
    "\n",
    "Ans:\n",
    "\n",
    "(i) (Between 4 and 8)\n",
    "\n",
    "(ii)Its Right skewed because the maximum frequency came on LHS of the graph and mode and mean in LHS.\n",
    "\n",
    "(iii)Both Data set shows its Right Skewed and more data are concentrated in LHS and maximum data are CONCENTRATED in LHS. So, the IQR of box plot and the datasets or graph in Histogram also shown in LHS shift. And there is one outlier in RHS shown both in Boxplot and Histogram. But from Histogram we will get exact information about frequency value which not value wise shown in Boxplot. But the median shown in Box plot that we can’t get Exact value easily from Histogram."
   ]
  },
  {
   "cell_type": "markdown",
   "id": "ff6f830c",
   "metadata": {},
   "source": [
    "4.AT&T was running commercials in 1990 aimed at luring back customers who had switched to one of the other long-distance phone service providers. One such commercial shows a businessman trying to reach Phoenix and mistakenly getting Fiji, where a half-naked native on a beach responds incomprehensibly in Polynesian. When asked about this advertisement, AT&T admitted that the portrayed incident did not actually take place but added that this was an enactment of something that “could happen.” Suppose that one in 200 long-distance telephone calls is misdirected. What is the probability that at least one in five attempted telephone calls reaches the wrong number? (Assume independence of attempts.)"
   ]
  },
  {
   "cell_type": "code",
   "execution_count": 9,
   "id": "a0a5ccd6",
   "metadata": {},
   "outputs": [
    {
     "data": {
      "text/plain": [
       "0.001"
      ]
     },
     "execution_count": 9,
     "metadata": {},
     "output_type": "execute_result"
    }
   ],
   "source": [
    "\n",
    "# What is the probability that at least one in five attempted telephone calls reaches the wrong number?\n",
    "(1/5)*(1/200)"
   ]
  },
  {
   "cell_type": "markdown",
   "id": "5fa74dd6",
   "metadata": {},
   "source": [
    "5.\n",
    "\n",
    "Returns on a certain business venture, to the nearest $1,000, are known to follow the following probability distribution x P(x) -2,000 0.1 -1,000 0.1 0 0.2 1000 0.2 2000 0.3 3000 0.1\n",
    "\n",
    "(i) What is the most likely monetary outcome of the business venture?\n",
    "\n",
    "(ii) Is the venture likely to be successful? Explain\n",
    "\n",
    "(iii) What is the long-term average earning of business ventures of this kind? Explain\n",
    "\n",
    "(iv) What is the good measure of the risk involved in a venture of this kind? Compute this measure"
   ]
  },
  {
   "cell_type": "code",
   "execution_count": 10,
   "id": "4b4eca84",
   "metadata": {},
   "outputs": [],
   "source": [
    "#cREATING THE DATAFRAME\n",
    "Df_5=pd.DataFrame({'x':['-2000','-1000','0','1000','2000','3000'],'PX':[0.1,0.1,0.2,0.2,0.3,0.1]})"
   ]
  },
  {
   "cell_type": "code",
   "execution_count": 12,
   "id": "8e295e72",
   "metadata": {},
   "outputs": [
    {
     "data": {
      "text/html": [
       "<div>\n",
       "<style scoped>\n",
       "    .dataframe tbody tr th:only-of-type {\n",
       "        vertical-align: middle;\n",
       "    }\n",
       "\n",
       "    .dataframe tbody tr th {\n",
       "        vertical-align: top;\n",
       "    }\n",
       "\n",
       "    .dataframe thead th {\n",
       "        text-align: right;\n",
       "    }\n",
       "</style>\n",
       "<table border=\"1\" class=\"dataframe\">\n",
       "  <thead>\n",
       "    <tr style=\"text-align: right;\">\n",
       "      <th></th>\n",
       "      <th>x</th>\n",
       "      <th>PX</th>\n",
       "    </tr>\n",
       "  </thead>\n",
       "  <tbody>\n",
       "    <tr>\n",
       "      <th>0</th>\n",
       "      <td>-2000</td>\n",
       "      <td>0.1</td>\n",
       "    </tr>\n",
       "    <tr>\n",
       "      <th>1</th>\n",
       "      <td>-1000</td>\n",
       "      <td>0.1</td>\n",
       "    </tr>\n",
       "    <tr>\n",
       "      <th>2</th>\n",
       "      <td>0</td>\n",
       "      <td>0.2</td>\n",
       "    </tr>\n",
       "    <tr>\n",
       "      <th>3</th>\n",
       "      <td>1000</td>\n",
       "      <td>0.2</td>\n",
       "    </tr>\n",
       "    <tr>\n",
       "      <th>4</th>\n",
       "      <td>2000</td>\n",
       "      <td>0.3</td>\n",
       "    </tr>\n",
       "    <tr>\n",
       "      <th>5</th>\n",
       "      <td>3000</td>\n",
       "      <td>0.1</td>\n",
       "    </tr>\n",
       "  </tbody>\n",
       "</table>\n",
       "</div>"
      ],
      "text/plain": [
       "       x   PX\n",
       "0  -2000  0.1\n",
       "1  -1000  0.1\n",
       "2      0  0.2\n",
       "3   1000  0.2\n",
       "4   2000  0.3\n",
       "5   3000  0.1"
      ]
     },
     "execution_count": 12,
     "metadata": {},
     "output_type": "execute_result"
    }
   ],
   "source": [
    "Df_5"
   ]
  },
  {
   "cell_type": "code",
   "execution_count": 13,
   "id": "f4dcfecd",
   "metadata": {},
   "outputs": [
    {
     "data": {
      "text/html": [
       "<div>\n",
       "<style scoped>\n",
       "    .dataframe tbody tr th:only-of-type {\n",
       "        vertical-align: middle;\n",
       "    }\n",
       "\n",
       "    .dataframe tbody tr th {\n",
       "        vertical-align: top;\n",
       "    }\n",
       "\n",
       "    .dataframe thead th {\n",
       "        text-align: right;\n",
       "    }\n",
       "</style>\n",
       "<table border=\"1\" class=\"dataframe\">\n",
       "  <thead>\n",
       "    <tr style=\"text-align: right;\">\n",
       "      <th></th>\n",
       "      <th>x</th>\n",
       "      <th>PX</th>\n",
       "    </tr>\n",
       "  </thead>\n",
       "  <tbody>\n",
       "    <tr>\n",
       "      <th>4</th>\n",
       "      <td>2000</td>\n",
       "      <td>0.3</td>\n",
       "    </tr>\n",
       "  </tbody>\n",
       "</table>\n",
       "</div>"
      ],
      "text/plain": [
       "      x   PX\n",
       "4  2000  0.3"
      ]
     },
     "execution_count": 13,
     "metadata": {},
     "output_type": "execute_result"
    }
   ],
   "source": [
    "#(i)\tWhat is the most likely monetary outcome of the business venture?\n",
    " \n",
    "max5=Df_5['PX'].max()\n",
    "Most_likely_monetary_outcome=Df_5[Df_5['PX']==max5]\n",
    "\n",
    "Most_likely_monetary_outcome\n",
    "     "
   ]
  },
  {
   "cell_type": "code",
   "execution_count": 14,
   "id": "a33d2887",
   "metadata": {},
   "outputs": [
    {
     "name": "stdout",
     "output_type": "stream",
     "text": [
      "venture likely to be successful; 0.6 >0.5\n"
     ]
    }
   ],
   "source": [
    "#(ii)Is the venture likely to be successful? Explain\n",
    "#VENTURE WILL BE SUCCES IF X POSITIVE\n",
    "Success=Df_5[Df_5['x']>'0']\n",
    "total_success=0\n",
    "for i in Success['PX']:\n",
    "  total_success=total_success+float(i)\n",
    "if total_success>0.5:\n",
    "  print(\"venture likely to be successful;\",total_success,'>0.5')\n",
    "else:\n",
    "  print(\"venture not likely to be successful;\",total_success,'<0.5')"
   ]
  },
  {
   "cell_type": "code",
   "execution_count": 16,
   "id": "9efe4a9e",
   "metadata": {},
   "outputs": [
    {
     "data": {
      "text/plain": [
       "800.0"
      ]
     },
     "execution_count": 16,
     "metadata": {},
     "output_type": "execute_result"
    }
   ],
   "source": [
    "#(iii)What is the long-term average earning of business ventures of this kind? Explain\n",
    "#E(X)=SUM(x.P(x))\n",
    "Df_5=Df_5.astype(float)\n",
    "EX=Df_5.product(axis=1).sum()\n",
    "EX"
   ]
  },
  {
   "cell_type": "code",
   "execution_count": 17,
   "id": "e39b3556",
   "metadata": {},
   "outputs": [
    {
     "data": {
      "text/plain": [
       "1469.6938456699068"
      ]
     },
     "execution_count": 17,
     "metadata": {},
     "output_type": "execute_result"
    }
   ],
   "source": [
    "#(iv)\tWhat is the good measure of the risk involved in a venture of this kind? Compute this measure\n",
    "#variance=E(x^2)-E(x)^2\n",
    "k1=Df_5.loc[:,'x']\n",
    "k2=Df_5.loc[:,'PX']\n",
    "T=k1*k1*k2\n",
    "Var=T.sum()-(EX)**2\n",
    "Var\n",
    "STD=math.sqrt(Var)\n",
    "STD"
   ]
  },
  {
   "cell_type": "code",
   "execution_count": 18,
   "id": "4186876b",
   "metadata": {},
   "outputs": [],
   "source": [
    "#STD is 1469.694 so its very high Hence the stock is in risky."
   ]
  },
  {
   "cell_type": "code",
   "execution_count": null,
   "id": "a241240c",
   "metadata": {},
   "outputs": [],
   "source": []
  }
 ],
 "metadata": {
  "kernelspec": {
   "display_name": "Python 3 (ipykernel)",
   "language": "python",
   "name": "python3"
  },
  "language_info": {
   "codemirror_mode": {
    "name": "ipython",
    "version": 3
   },
   "file_extension": ".py",
   "mimetype": "text/x-python",
   "name": "python",
   "nbconvert_exporter": "python",
   "pygments_lexer": "ipython3",
   "version": "3.9.7"
  }
 },
 "nbformat": 4,
 "nbformat_minor": 5
}
